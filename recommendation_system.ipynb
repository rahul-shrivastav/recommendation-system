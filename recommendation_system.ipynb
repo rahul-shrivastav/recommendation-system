{
 "cells": [
  {
   "cell_type": "code",
   "execution_count": null,
   "metadata": {
    "id": "GIJXtlKImkLD"
   },
   "outputs": [],
   "source": [
    "import pandas as pd\n",
    "from sklearn.preprocessing import OneHotEncoder\n",
    "from sklearn.neighbors import NearestNeighbors\n",
    "from sklearn.model_selection import train_test_split\n",
    "\n",
    "import matplotlib.pyplot as plt\n",
    "import seaborn as sns\n",
    "import warnings\n",
    "warnings.simplefilter(action='ignore', category=FutureWarning)"
   ]
  },
  {
   "cell_type": "code",
   "execution_count": null,
   "metadata": {
    "id": "e5ha1JSb2Kzp"
   },
   "outputs": [],
   "source": [
    "df = pd.read_csv('amazon_products.csv')\n",
    "df.drop(columns=['productURL','listPrice','boughtInLastMonth'], inplace=True)\n",
    "df = df.dropna(subset=['price', 'category_id'], how='all')"
   ]
  },
  {
   "cell_type": "markdown",
   "metadata": {},
   "source": [
    "PLOTTING CATEGORIES WITH MOST PRODUCTS"
   ]
  },
  {
   "cell_type": "code",
   "execution_count": null,
   "metadata": {
    "id": "L_dQl17QqywO"
   },
   "outputs": [],
   "source": [
    "plt.subplots(figsize=(12,10))\n",
    "list1 = []\n",
    "for i in df['category_id']:\n",
    "    list1.append(str(i))\n",
    "ax = pd.Series(list1).value_counts()[:15].sort_values(ascending=True).plot.barh(width=0.9,color=sns.color_palette('hls',10))\n",
    "for i, v in enumerate(pd.Series(list1).value_counts()[:15].sort_values(ascending=True).values):\n",
    "    ax.text(.8, i, v,fontsize=12,color='white',weight='bold')\n",
    "plt.title('-Top 15 Categories-')\n",
    "plt.ylabel('Category ID')\n",
    "plt.xlabel('Number of Products')\n",
    "\n",
    "plt.show()"
   ]
  },
  {
   "cell_type": "markdown",
   "metadata": {},
   "source": [
    "ONE HOT ENCODING THE CATEGORIES\n"
   ]
  },
  {
   "cell_type": "code",
   "execution_count": null,
   "metadata": {
    "id": "XrRIR1vtqy4M"
   },
   "outputs": [],
   "source": [
    "encoder = OneHotEncoder(categories=[list(range(1, 271))],sparse_output=False)  # Use sparse_output=False to get a DataFrame\n",
    "encoded_array = encoder.fit_transform(df[['category_id']])\n",
    "encoded_df = pd.DataFrame(encoded_array, columns=encoder.get_feature_names_out(['category_id']))\n",
    "\n",
    "df = pd.concat([df, encoded_df], axis=1)\n",
    "\n",
    "# Drop original categorical columns (optional)\n",
    "df.drop(['category_id'], axis=1, inplace=True)"
   ]
  },
  {
   "cell_type": "markdown",
   "metadata": {},
   "source": [
    "DATA CLEANING AND FEATURE SELECTION\n",
    "\n"
   ]
  },
  {
   "cell_type": "code",
   "execution_count": null,
   "metadata": {
    "id": "4Mu_W4iYmkNv"
   },
   "outputs": [],
   "source": [
    "df.dropna(inplace=True)\n",
    "df.drop_duplicates(inplace=True)\n",
    "df = df[df['category_id_134'] != 1.0]\n",
    "\n",
    "features = data.drop(['asin', 'imgUrl', 'title'], axis=1)\n",
    "features.iloc[:, 4:] *= 10  # Multiply all categorical columns increasing weight of category"
   ]
  },
  {
   "cell_type": "markdown",
   "metadata": {},
   "source": [
    "TRAINING THE KNN MODEL\n"
   ]
  },
  {
   "cell_type": "code",
   "execution_count": null,
   "metadata": {
    "id": "8TMZlmF2mkIG"
   },
   "outputs": [],
   "source": [
    "knn = NearestNeighbors(n_neighbors=15, metric='cosine', n_jobs=-1)\n",
    "knn.fit(features)"
   ]
  },
  {
   "cell_type": "markdown",
   "metadata": {},
   "source": [
    "SAVING THE MODEL"
   ]
  },
  {
   "cell_type": "code",
   "execution_count": null,
   "metadata": {
    "id": "do6vZlh5mj9X"
   },
   "outputs": [],
   "source": [
    "joblib.dump(knn, 'models/knn_model.pkl', compress=3)\n",
    "joblib.dump(data, 'models/original_data.pkl', compress=3)"
   ]
  },
  {
   "cell_type": "code",
   "execution_count": null,
   "metadata": {},
   "outputs": [],
   "source": []
  }
 ],
 "metadata": {
  "colab": {
   "gpuType": "T4",
   "provenance": []
  },
  "kernelspec": {
   "display_name": "Python 3 (ipykernel)",
   "language": "python",
   "name": "python3"
  },
  "language_info": {
   "codemirror_mode": {
    "name": "ipython",
    "version": 3
   },
   "file_extension": ".py",
   "mimetype": "text/x-python",
   "name": "python",
   "nbconvert_exporter": "python",
   "pygments_lexer": "ipython3",
   "version": "3.12.4"
  }
 },
 "nbformat": 4,
 "nbformat_minor": 4
}
